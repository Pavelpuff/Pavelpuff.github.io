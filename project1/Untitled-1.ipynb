{
 "cells": [
  {
   "cell_type": "code",
   "execution_count": 1,
   "metadata": {},
   "outputs": [
    {
     "name": "stdout",
     "output_type": "stream",
     "text": [
      "Defaulting to user installation because normal site-packages is not writeable\n",
      "Requirement already satisfied: duckduckgo_search in /Users/pavelcharheika/Library/Python/3.9/lib/python/site-packages (7.5.1)\n",
      "Collecting duckduckgo_search\n",
      "  Downloading duckduckgo_search-7.5.2-py3-none-any.whl.metadata (17 kB)\n",
      "Requirement already satisfied: click>=8.1.8 in /Users/pavelcharheika/Library/Python/3.9/lib/python/site-packages (from duckduckgo_search) (8.1.8)\n",
      "Requirement already satisfied: primp>=0.14.0 in /Users/pavelcharheika/Library/Python/3.9/lib/python/site-packages (from duckduckgo_search) (0.14.0)\n",
      "Requirement already satisfied: lxml>=5.3.0 in /Users/pavelcharheika/Library/Python/3.9/lib/python/site-packages (from duckduckgo_search) (5.3.1)\n",
      "Downloading duckduckgo_search-7.5.2-py3-none-any.whl (20 kB)\n",
      "Installing collected packages: duckduckgo_search\n",
      "  Attempting uninstall: duckduckgo_search\n",
      "    Found existing installation: duckduckgo_search 7.5.1\n",
      "    Uninstalling duckduckgo_search-7.5.1:\n",
      "      Successfully uninstalled duckduckgo_search-7.5.1\n",
      "Successfully installed duckduckgo_search-7.5.2\n",
      "Note: you may need to restart the kernel to use updated packages.\n"
     ]
    }
   ],
   "source": [
    "pip install -U duckduckgo_search"
   ]
  },
  {
   "cell_type": "code",
   "execution_count": 2,
   "metadata": {},
   "outputs": [
    {
     "name": "stdout",
     "output_type": "stream",
     "text": [
      "Note: you may need to restart the kernel to use updated packages.\n"
     ]
    }
   ],
   "source": [
    "pip install --upgrade --quiet duckduckgo-search"
   ]
  },
  {
   "cell_type": "code",
   "execution_count": 3,
   "metadata": {},
   "outputs": [
    {
     "name": "stdout",
     "output_type": "stream",
     "text": [
      "Defaulting to user installation because normal site-packages is not writeable\n",
      "Requirement already satisfied: urlopen in /Users/pavelcharheika/Library/Python/3.9/lib/python/site-packages (1.0.0)\n",
      "Note: you may need to restart the kernel to use updated packages.\n"
     ]
    }
   ],
   "source": [
    "pip install urlopen"
   ]
  },
  {
   "cell_type": "code",
   "execution_count": 13,
   "metadata": {},
   "outputs": [
    {
     "name": "stdout",
     "output_type": "stream",
     "text": [
      "Jekyll site files have been generated.\n"
     ]
    }
   ],
   "source": [
    "import os\n",
    "import requests\n",
    "from bs4 import BeautifulSoup\n",
    "from urllib.request import urlopen\n",
    "from duckduckgo_search import DDGS\n",
    "from datetime import date\n",
    "import time\n",
    "\n",
    "# Fetch and parse the webpage\n",
    "url = \"https://collider.com/andrei-tarkovsky-movies-ranked-imdb/\"\n",
    "page = urlopen(url)\n",
    "html = page.read().decode(\"utf-8\")\n",
    "soup = BeautifulSoup(html, \"html.parser\")\n",
    "\n",
    "# Extract page title\n",
    "page_title = soup.title.get_text(strip=True)\n",
    "\n",
    "# Find and download the large header image\n",
    "image_url = soup.find('link', media=\"(min-width: 1024px)\")['href']\n",
    "image_path = \"assets/images/tarkovsky-banner.jpg\"\n",
    "\n",
    "os.makedirs(\"assets/images\", exist_ok=True)\n",
    "response = requests.get(image_url)\n",
    "with open(image_path, \"wb\") as img_file:\n",
    "    img_file.write(response.content)\n",
    "\n",
    "# Create directories\n",
    "os.makedirs(\"_posts\", exist_ok=True)\n",
    "# Create _config.yml for Jekyll configuration\n",
    "with open(\"_config.yml\", \"w\", encoding=\"utf-8\") as config_file:\n",
    "    config_file.write(f\"\"\"\\\n",
    "title: \"Top Tarkovsky Movies\"\n",
    "description: \"A collection of Andrei Tarkovsky's movies\"\n",
    "theme: jekyll-theme-minimal\n",
    "logo: \"/assets/images/logo.png\"\n",
    "author:\n",
    "  name: \"Pavel Charheika\"\n",
    "  email: \"pc451309@students.mimuw.edu.pl\"\n",
    "paginate: 5\n",
    "permalink: /:title/\n",
    "plugins:\n",
    "  - jekyll-feed\n",
    "  - jekyll-seo-tag\n",
    "  - jekyll-sitemap\n",
    "\"\"\")\n",
    "\n",
    "# Prepare the movie data\n",
    "data = []\n",
    "movies = soup.find_all('h2')\n",
    "\n",
    "for movie in movies:\n",
    "    span = movie.find('span')\n",
    "    if not span:\n",
    "        continue  # Skip if there's no <span>\n",
    "\n",
    "    rank = span.get_text(strip=True)    \n",
    "    title_span = span.find_next_sibling()\n",
    "    title = title_span.get_text(strip=True) if title_span else \"Unknown\"\n",
    "\n",
    "    rating_tag = movie.find_next_sibling('h3')\n",
    "    rating = rating_tag.get_text(strip=True) if rating_tag else \"N/A\"\n",
    "\n",
    "    description_tag = movie.find_next_sibling('p')\n",
    "    sentence1 = description_tag.get_text(strip=True) if description_tag else \"No description\"\n",
    "    \n",
    "    sentence2 = \"No description\"\n",
    "    if description_tag:\n",
    "        next_p = description_tag.find_next_sibling('p')\n",
    "        if next_p:\n",
    "            sentence2 = next_p.get_text(strip=True)\n",
    "    \n",
    "    \n",
    "    time.sleep(2)\n",
    "    # Search for IMDb link\n",
    "    search_result = DDGS().text(f\"{title} - IMDb\", max_results=1)\n",
    "    link = search_result[0]['href'] if search_result else \"#\"\n",
    "\n",
    "    movie_info = {\n",
    "        \"Rank\": rank,\n",
    "        \"Title\": title,\n",
    "        \"Rating\": rating,\n",
    "        \"Sentence1\": sentence1,\n",
    "        \"Sentence2\": sentence2,\n",
    "        \"Link\": link\n",
    "    }\n",
    "    data.append(movie_info)\n",
    "# Create index.md (Home page)\n",
    "with open(\"index.md\", \"w\", encoding=\"utf-8\") as index_file:\n",
    "    index_file.write(f\"\"\"\\\n",
    "---\n",
    "layout: default\n",
    "title: \"{page_title}\"\n",
    "header:\n",
    "  overlay_image: \"/{image_path}\"\n",
    "  caption: \"Andrei Tarkovsky's Best Movies\"\n",
    "---\n",
    "\n",
    "## List of Tarkovsky's Movies\n",
    "\n",
    "\"\"\")\n",
    "\n",
    "    for movie in data:\n",
    "        filename = f\"_posts/{date.today()}-{movie['Title'].replace(' ', '_')}.md\"\n",
    "\n",
    "        # Create individual movie pages\n",
    "        with open(filename, \"w\", encoding=\"utf-8\") as post_file:\n",
    "            post_file.write(f\"\"\"\\\n",
    "---\n",
    "title: \"{movie['Title']}\"\n",
    "date: {date.today()}\n",
    "layout: post\n",
    "header:\n",
    "  overlay_image: \"/{image_path}\"\n",
    "  caption: \"A still from {movie['Title']}\"---\n",
    "\n",
    "## {movie['Rank']} - {movie['Title']}\n",
    "\n",
    "**Rating:** {movie['Rating']}\n",
    "\n",
    "{movie['Sentence1']}\n",
    "\n",
    "{movie['Sentence2']}\n",
    "\n",
    "[IMDb - {movie['Title']}]({movie['Link']})\n",
    "\"\"\")\n",
    "\n",
    "        # Add movie links to the index page\n",
    "        index_file.write(f\"- [{movie['Title']}]({filename.replace('_posts/', '')})\\n\")\n",
    "\n",
    "print(\"Jekyll site files have been generated.\")"
   ]
  }
 ],
 "metadata": {
  "kernelspec": {
   "display_name": "Python 3",
   "language": "python",
   "name": "python3"
  },
  "language_info": {
   "codemirror_mode": {
    "name": "ipython",
    "version": 3
   },
   "file_extension": ".py",
   "mimetype": "text/x-python",
   "name": "python",
   "nbconvert_exporter": "python",
   "pygments_lexer": "ipython3",
   "version": "3.9.6"
  }
 },
 "nbformat": 4,
 "nbformat_minor": 2
}
